{
 "cells": [
  {
   "cell_type": "code",
   "execution_count": 54,
   "metadata": {},
   "outputs": [
    {
     "name": "stdout",
     "output_type": "stream",
     "text": [
      "Requirement already satisfied: pysndfx in c:\\users\\swami\\appdata\\local\\programs\\python\\python310\\lib\\site-packages (0.3.6)Note: you may need to restart the kernel to use updated packages.\n",
      "Requirement already satisfied: numpy in c:\\users\\swami\\appdata\\local\\programs\\python\\python310\\lib\\site-packages (from pysndfx) (1.22.2)\n",
      "\n"
     ]
    }
   ],
   "source": [
    "pip install pysndfx"
   ]
  },
  {
   "cell_type": "code",
   "execution_count": 55,
   "metadata": {},
   "outputs": [
    {
     "name": "stdout",
     "output_type": "stream",
     "text": [
      "Requirement already satisfied: python_speech_features in c:\\users\\swami\\appdata\\local\\programs\\python\\python310\\lib\\site-packages (0.6)\n",
      "Note: you may need to restart the kernel to use updated packages.\n"
     ]
    }
   ],
   "source": [
    "pip install python_speech_features\n"
   ]
  },
  {
   "cell_type": "code",
   "execution_count": 56,
   "metadata": {},
   "outputs": [
    {
     "name": "stdout",
     "output_type": "stream",
     "text": [
      "Requirement already satisfied: ffmpeg in c:\\users\\swami\\appdata\\local\\programs\\python\\python310\\lib\\site-packages (1.4)\n",
      "Note: you may need to restart the kernel to use updated packages.\n"
     ]
    }
   ],
   "source": [
    "pip install ffmpeg"
   ]
  },
  {
   "cell_type": "code",
   "execution_count": 57,
   "metadata": {},
   "outputs": [],
   "source": [
    "import librosa\n",
    "from pysndfx import AudioEffectsChain\n",
    "import numpy as np\n",
    "import math\n",
    "import python_speech_features\n",
    "import scipy as sp\n",
    "from scipy import signal"
   ]
  },
  {
   "cell_type": "code",
   "execution_count": 58,
   "metadata": {},
   "outputs": [],
   "source": [
    "def read_file(file_name):\n",
    "    sample_file = file_name\n",
    "    sample_directory = 'C:\\\\Users\\\\swami\\\\Desktop\\\\pro2\\\\samples\\\\'\n",
    "    sample_path = sample_directory + sample_file\n",
    "\n",
    "    # generating audio time series and a sampling rate (int)\n",
    "    y, sr = librosa.load(sample_path)\n",
    "\n",
    "    return y, sr"
   ]
  },
  {
   "cell_type": "code",
   "execution_count": 59,
   "metadata": {},
   "outputs": [],
   "source": [
    "# def reduce_noise_power(y, sr):\n",
    "\n",
    "#     cent = librosa.feature.spectral_centroid(y=y, sr=sr)\n",
    "\n",
    "#     threshold_h = round(np.median(cent))*1.5\n",
    "#     threshold_l = round(np.median(cent))*0.1\n",
    "\n",
    "#     less_noise = AudioEffectsChain().lowshelf(gain=-30.0, frequency=threshold_l, slope=0.8).highshelf(gain=-12.0, frequency=threshold_h, slope=0.5)#.limiter(gain=6.0)\n",
    "#     y_clean = less_noise(y)\n",
    "\n",
    "#     return y_clean\n",
    "\n",
    "\n",
    "def reduce_noise_mfcc_down(y, sr):\n",
    "\n",
    "    hop_length = 512\n",
    "\n",
    "    ## librosa\n",
    "    # mfcc = librosa.feature.mfcc(y=y, sr=sr, hop_length=hop_length, n_mfcc=13)\n",
    "    # librosa.mel_to_hz(mfcc)\n",
    "\n",
    "    ## mfcc\n",
    "    mfcc = python_speech_features.base.mfcc(y)\n",
    "    mfcc = python_speech_features.base.logfbank(y)\n",
    "    mfcc = python_speech_features.base.lifter(mfcc)\n",
    "\n",
    "    sum_of_squares = []\n",
    "    index = -1\n",
    "    for r in mfcc:\n",
    "        sum_of_squares.append(0)\n",
    "        index = index + 1\n",
    "        for n in r:\n",
    "            sum_of_squares[index] = sum_of_squares[index] + n**2\n",
    "\n",
    "    strongest_frame = sum_of_squares.index(max(sum_of_squares))\n",
    "    hz = python_speech_features.base.mel2hz(mfcc[strongest_frame])\n",
    "\n",
    "    max_hz = max(hz)\n",
    "    min_hz = min(hz)\n",
    "\n",
    "    speech_booster = AudioEffectsChain().highshelf(frequency=min_hz*(-1)*1.2, gain=-12.0, slope=0.6).limiter(gain=8.0)\n",
    "    y_speach_boosted = speech_booster(y)\n",
    "\n",
    "    return (y_speach_boosted)\n",
    "\n",
    "def reduce_noise_mfcc_up(y, sr):\n",
    "\n",
    "    hop_length = 512\n",
    "\n",
    "    ## librosa\n",
    "    # mfcc = librosa.feature.mfcc(y=y, sr=sr, hop_length=hop_length, n_mfcc=13)\n",
    "    # librosa.mel_to_hz(mfcc)\n",
    "\n",
    "    ## mfcc\n",
    "    mfcc = python_speech_features.base.mfcc(y)\n",
    "    mfcc = python_speech_features.base.logfbank(y)\n",
    "    mfcc = python_speech_features.base.lifter(mfcc)\n",
    "\n",
    "    sum_of_squares = []\n",
    "    index = -1\n",
    "    for r in mfcc:\n",
    "        sum_of_squares.append(0)\n",
    "        index = index + 1\n",
    "        for n in r:\n",
    "            sum_of_squares[index] = sum_of_squares[index] + n**2\n",
    "\n",
    "    strongest_frame = sum_of_squares.index(max(sum_of_squares))\n",
    "    hz = python_speech_features.base.mel2hz(mfcc[strongest_frame])\n",
    "\n",
    "    max_hz = max(hz)\n",
    "    min_hz = min(hz)\n",
    "\n",
    "    speech_booster = AudioEffectsChain().lowshelf(frequency=min_hz*(-1), gain=12.0, slope=0.5)#.highshelf(frequency=min_hz*(-1)*1.2, gain=-12.0, slope=0.5)#.limiter(gain=8.0)\n",
    "    y_speach_boosted = speech_booster(y)\n",
    "\n",
    "    return (y_speach_boosted)"
   ]
  },
  {
   "cell_type": "code",
   "execution_count": 60,
   "metadata": {},
   "outputs": [],
   "source": [
    "def trim_silence(y):\n",
    "    y_trimmed, index = librosa.effects.trim(y, top_db=20, frame_length=2, hop_length=500)\n",
    "    trimmed_length = librosa.get_duration(y) - librosa.get_duration(y_trimmed)\n",
    "\n",
    "    return y_trimmed, trimmed_length"
   ]
  },
  {
   "cell_type": "code",
   "execution_count": 61,
   "metadata": {},
   "outputs": [],
   "source": [
    "def enhance(y):\n",
    "    apply_audio_effects = AudioEffectsChain().lowshelf(gain=10.0, frequency=260, slope=0.1).reverb(reverberance=25, hf_damping=5, room_scale=5, stereo_depth=50, pre_delay=20, wet_gain=0, wet_only=False)#.normalize()\n",
    "    y_enhanced = apply_audio_effects(y)\n",
    "\n",
    "    return y_enhanced"
   ]
  },
  {
   "cell_type": "code",
   "execution_count": 62,
   "metadata": {},
   "outputs": [],
   "source": [
    "def output_file(destination ,filename, y, sr, ext=\"\"):\n",
    "    destination = destination + filename[:-4] + ext + '.wav'\n",
    "    librosa.output.write_wav(destination, y, sr)"
   ]
  },
  {
   "cell_type": "code",
   "execution_count": 63,
   "metadata": {},
   "outputs": [
    {
     "ename": "FileNotFoundError",
     "evalue": "[WinError 2] The system cannot find the file specified",
     "output_type": "error",
     "traceback": [
      "\u001b[1;31m---------------------------------------------------------------------------\u001b[0m",
      "\u001b[1;31mFileNotFoundError\u001b[0m                         Traceback (most recent call last)",
      "\u001b[1;32m~\\AppData\\Local\\Temp/ipykernel_15944/1454012331.py\u001b[0m in \u001b[0;36m<module>\u001b[1;34m\u001b[0m\n\u001b[0;32m      8\u001b[0m \u001b[1;33m\u001b[0m\u001b[0m\n\u001b[0;32m      9\u001b[0m \u001b[1;33m\u001b[0m\u001b[0m\n\u001b[1;32m---> 10\u001b[1;33m     \u001b[0my_reduced_mfcc_up\u001b[0m \u001b[1;33m=\u001b[0m \u001b[0mreduce_noise_mfcc_up\u001b[0m\u001b[1;33m(\u001b[0m\u001b[0my\u001b[0m\u001b[1;33m,\u001b[0m \u001b[0msr\u001b[0m\u001b[1;33m)\u001b[0m\u001b[1;33m\u001b[0m\u001b[1;33m\u001b[0m\u001b[0m\n\u001b[0m\u001b[0;32m     11\u001b[0m     \u001b[0my_reduced_mfcc_down\u001b[0m \u001b[1;33m=\u001b[0m \u001b[0mreduce_noise_mfcc_down\u001b[0m\u001b[1;33m(\u001b[0m\u001b[0my\u001b[0m\u001b[1;33m,\u001b[0m \u001b[0msr\u001b[0m\u001b[1;33m)\u001b[0m\u001b[1;33m\u001b[0m\u001b[1;33m\u001b[0m\u001b[0m\n\u001b[0;32m     12\u001b[0m \u001b[1;33m\u001b[0m\u001b[0m\n",
      "\u001b[1;32m~\\AppData\\Local\\Temp/ipykernel_15944/1271477105.py\u001b[0m in \u001b[0;36mreduce_noise_mfcc_up\u001b[1;34m(y, sr)\u001b[0m\n\u001b[0;32m     72\u001b[0m \u001b[1;33m\u001b[0m\u001b[0m\n\u001b[0;32m     73\u001b[0m     \u001b[0mspeech_booster\u001b[0m \u001b[1;33m=\u001b[0m \u001b[0mAudioEffectsChain\u001b[0m\u001b[1;33m(\u001b[0m\u001b[1;33m)\u001b[0m\u001b[1;33m.\u001b[0m\u001b[0mlowshelf\u001b[0m\u001b[1;33m(\u001b[0m\u001b[0mfrequency\u001b[0m\u001b[1;33m=\u001b[0m\u001b[0mmin_hz\u001b[0m\u001b[1;33m*\u001b[0m\u001b[1;33m(\u001b[0m\u001b[1;33m-\u001b[0m\u001b[1;36m1\u001b[0m\u001b[1;33m)\u001b[0m\u001b[1;33m,\u001b[0m \u001b[0mgain\u001b[0m\u001b[1;33m=\u001b[0m\u001b[1;36m12.0\u001b[0m\u001b[1;33m,\u001b[0m \u001b[0mslope\u001b[0m\u001b[1;33m=\u001b[0m\u001b[1;36m0.5\u001b[0m\u001b[1;33m)\u001b[0m\u001b[1;31m#.highshelf(frequency=min_hz*(-1)*1.2, gain=-12.0, slope=0.5)#.limiter(gain=8.0)\u001b[0m\u001b[1;33m\u001b[0m\u001b[1;33m\u001b[0m\u001b[0m\n\u001b[1;32m---> 74\u001b[1;33m     \u001b[0my_speach_boosted\u001b[0m \u001b[1;33m=\u001b[0m \u001b[0mspeech_booster\u001b[0m\u001b[1;33m(\u001b[0m\u001b[0my\u001b[0m\u001b[1;33m)\u001b[0m\u001b[1;33m\u001b[0m\u001b[1;33m\u001b[0m\u001b[0m\n\u001b[0m\u001b[0;32m     75\u001b[0m \u001b[1;33m\u001b[0m\u001b[0m\n\u001b[0;32m     76\u001b[0m     \u001b[1;32mreturn\u001b[0m \u001b[1;33m(\u001b[0m\u001b[0my_speach_boosted\u001b[0m\u001b[1;33m)\u001b[0m\u001b[1;33m\u001b[0m\u001b[1;33m\u001b[0m\u001b[0m\n",
      "\u001b[1;32mc:\\Users\\swami\\AppData\\Local\\Programs\\Python\\Python310\\lib\\site-packages\\pysndfx\\dsp.py\u001b[0m in \u001b[0;36m__call__\u001b[1;34m(self, src, dst, sample_in, sample_out, encoding_out, channels_out, allow_clipping)\u001b[0m\n\u001b[0;32m    411\u001b[0m         \u001b[0mlogger\u001b[0m\u001b[1;33m.\u001b[0m\u001b[0mdebug\u001b[0m\u001b[1;33m(\u001b[0m\u001b[1;34m\"Running command : %s\"\u001b[0m \u001b[1;33m%\u001b[0m \u001b[0mcmd\u001b[0m\u001b[1;33m)\u001b[0m\u001b[1;33m\u001b[0m\u001b[1;33m\u001b[0m\u001b[0m\n\u001b[0;32m    412\u001b[0m         \u001b[1;32mif\u001b[0m \u001b[0misinstance\u001b[0m\u001b[1;33m(\u001b[0m\u001b[0mstdin\u001b[0m\u001b[1;33m,\u001b[0m \u001b[0mnp\u001b[0m\u001b[1;33m.\u001b[0m\u001b[0mndarray\u001b[0m\u001b[1;33m)\u001b[0m\u001b[1;33m:\u001b[0m\u001b[1;33m\u001b[0m\u001b[1;33m\u001b[0m\u001b[0m\n\u001b[1;32m--> 413\u001b[1;33m             \u001b[0mstdout\u001b[0m\u001b[1;33m,\u001b[0m \u001b[0mstderr\u001b[0m \u001b[1;33m=\u001b[0m \u001b[0mPopen\u001b[0m\u001b[1;33m(\u001b[0m\u001b[0mcmd\u001b[0m\u001b[1;33m,\u001b[0m \u001b[0mstdin\u001b[0m\u001b[1;33m=\u001b[0m\u001b[0mPIPE\u001b[0m\u001b[1;33m,\u001b[0m \u001b[0mstdout\u001b[0m\u001b[1;33m=\u001b[0m\u001b[0mPIPE\u001b[0m\u001b[1;33m,\u001b[0m \u001b[0mstderr\u001b[0m\u001b[1;33m=\u001b[0m\u001b[0mPIPE\u001b[0m\u001b[1;33m)\u001b[0m\u001b[1;33m.\u001b[0m\u001b[0mcommunicate\u001b[0m\u001b[1;33m(\u001b[0m\u001b[0mstdin\u001b[0m\u001b[1;33m.\u001b[0m\u001b[0mtobytes\u001b[0m\u001b[1;33m(\u001b[0m\u001b[0morder\u001b[0m\u001b[1;33m=\u001b[0m\u001b[1;34m\"F\"\u001b[0m\u001b[1;33m)\u001b[0m\u001b[1;33m)\u001b[0m\u001b[1;33m\u001b[0m\u001b[1;33m\u001b[0m\u001b[0m\n\u001b[0m\u001b[0;32m    414\u001b[0m         \u001b[1;32melse\u001b[0m\u001b[1;33m:\u001b[0m\u001b[1;33m\u001b[0m\u001b[1;33m\u001b[0m\u001b[0m\n\u001b[0;32m    415\u001b[0m             \u001b[0mstdout\u001b[0m\u001b[1;33m,\u001b[0m \u001b[0mstderr\u001b[0m \u001b[1;33m=\u001b[0m \u001b[0mPopen\u001b[0m\u001b[1;33m(\u001b[0m\u001b[0mcmd\u001b[0m\u001b[1;33m,\u001b[0m \u001b[0mstdout\u001b[0m\u001b[1;33m=\u001b[0m\u001b[0mPIPE\u001b[0m\u001b[1;33m,\u001b[0m \u001b[0mstderr\u001b[0m\u001b[1;33m=\u001b[0m\u001b[0mPIPE\u001b[0m\u001b[1;33m)\u001b[0m\u001b[1;33m.\u001b[0m\u001b[0mcommunicate\u001b[0m\u001b[1;33m(\u001b[0m\u001b[1;33m)\u001b[0m\u001b[1;33m\u001b[0m\u001b[1;33m\u001b[0m\u001b[0m\n",
      "\u001b[1;32mc:\\Users\\swami\\AppData\\Local\\Programs\\Python\\Python310\\lib\\subprocess.py\u001b[0m in \u001b[0;36m__init__\u001b[1;34m(self, args, bufsize, executable, stdin, stdout, stderr, preexec_fn, close_fds, shell, cwd, env, universal_newlines, startupinfo, creationflags, restore_signals, start_new_session, pass_fds, user, group, extra_groups, encoding, errors, text, umask, pipesize)\u001b[0m\n\u001b[0;32m    964\u001b[0m                             encoding=encoding, errors=errors)\n\u001b[0;32m    965\u001b[0m \u001b[1;33m\u001b[0m\u001b[0m\n\u001b[1;32m--> 966\u001b[1;33m             self._execute_child(args, executable, preexec_fn, close_fds,\n\u001b[0m\u001b[0;32m    967\u001b[0m                                 \u001b[0mpass_fds\u001b[0m\u001b[1;33m,\u001b[0m \u001b[0mcwd\u001b[0m\u001b[1;33m,\u001b[0m \u001b[0menv\u001b[0m\u001b[1;33m,\u001b[0m\u001b[1;33m\u001b[0m\u001b[1;33m\u001b[0m\u001b[0m\n\u001b[0;32m    968\u001b[0m                                 \u001b[0mstartupinfo\u001b[0m\u001b[1;33m,\u001b[0m \u001b[0mcreationflags\u001b[0m\u001b[1;33m,\u001b[0m \u001b[0mshell\u001b[0m\u001b[1;33m,\u001b[0m\u001b[1;33m\u001b[0m\u001b[1;33m\u001b[0m\u001b[0m\n",
      "\u001b[1;32mc:\\Users\\swami\\AppData\\Local\\Programs\\Python\\Python310\\lib\\subprocess.py\u001b[0m in \u001b[0;36m_execute_child\u001b[1;34m(self, args, executable, preexec_fn, close_fds, pass_fds, cwd, env, startupinfo, creationflags, shell, p2cread, p2cwrite, c2pread, c2pwrite, errread, errwrite, unused_restore_signals, unused_gid, unused_gids, unused_uid, unused_umask, unused_start_new_session)\u001b[0m\n\u001b[0;32m   1433\u001b[0m             \u001b[1;31m# Start the process\u001b[0m\u001b[1;33m\u001b[0m\u001b[1;33m\u001b[0m\u001b[0m\n\u001b[0;32m   1434\u001b[0m             \u001b[1;32mtry\u001b[0m\u001b[1;33m:\u001b[0m\u001b[1;33m\u001b[0m\u001b[1;33m\u001b[0m\u001b[0m\n\u001b[1;32m-> 1435\u001b[1;33m                 hp, ht, pid, tid = _winapi.CreateProcess(executable, args,\n\u001b[0m\u001b[0;32m   1436\u001b[0m                                          \u001b[1;31m# no special security\u001b[0m\u001b[1;33m\u001b[0m\u001b[1;33m\u001b[0m\u001b[0m\n\u001b[0;32m   1437\u001b[0m                                          \u001b[1;32mNone\u001b[0m\u001b[1;33m,\u001b[0m \u001b[1;32mNone\u001b[0m\u001b[1;33m,\u001b[0m\u001b[1;33m\u001b[0m\u001b[1;33m\u001b[0m\u001b[0m\n",
      "\u001b[1;31mFileNotFoundError\u001b[0m: [WinError 2] The system cannot find the file specified"
     ]
    }
   ],
   "source": [
    "samples = ['Dusty.mp3']\n",
    "\n",
    "for s in samples:\n",
    "    # reading a file\n",
    "    filename = s\n",
    "    y, sr = read_file(filename)\n",
    "    # print(y)\n",
    "    \n",
    "    \n",
    "    y_reduced_mfcc_up = reduce_noise_mfcc_up(y, sr)\n",
    "    y_reduced_mfcc_down = reduce_noise_mfcc_down(y, sr)\n",
    "    \n",
    "    y_reduced_mfcc_up, time_trimmed = trim_silence(y_reduced_mfcc_up)\n",
    "    # print (time_trimmed)\n",
    "\n",
    "    y_reduced_mfcc_down, time_trimmed = trim_silence(y_reduced_mfcc_down)\n",
    "    # print (time_trimmed)\n",
    "\n",
    "\n",
    "\n",
    "#     # generating output file [1]\n",
    "#     # output_file('01_samples_trimmed_noise_reduced/' ,filename, y_reduced_power, sr, '_pwr')\n",
    "\n",
    "#     # output_file('01_samples_trimmed_noise_reduced/' ,filename, y, sr, '_org')\n",
    "\n",
    "    output_file('01_samples_trimmed_noise_reduced/' ,filename, y_reduced_mfcc_up, sr, '_mfcc_up')\n",
    "    output_file('01_samples_trimmed_noise_reduced/' ,filename, y_reduced_mfcc_down, sr, '_mfcc_down')\n"
   ]
  }
 ],
 "metadata": {
  "kernelspec": {
   "display_name": "Python 3",
   "language": "python",
   "name": "python3"
  },
  "language_info": {
   "codemirror_mode": {
    "name": "ipython",
    "version": 3
   },
   "file_extension": ".py",
   "mimetype": "text/x-python",
   "name": "python",
   "nbconvert_exporter": "python",
   "pygments_lexer": "ipython3",
   "version": "3.10.1"
  },
  "orig_nbformat": 4
 },
 "nbformat": 4,
 "nbformat_minor": 2
}
